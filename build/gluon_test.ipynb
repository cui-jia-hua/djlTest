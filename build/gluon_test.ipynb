{
 "cells": [
  {
   "cell_type": "code",
   "execution_count": 19,
   "id": "2d8bd71f",
   "metadata": {},
   "outputs": [
    {
     "name": "stdout",
     "output_type": "stream",
     "text": [
      "32\n",
      "32\n",
      "32\n",
      "32\n",
      "32\n",
      "32\n"
     ]
    },
    {
     "name": "stderr",
     "output_type": "stream",
     "text": [
      "/Users/cuijiahua/opt/anaconda3/lib/python3.8/site-packages/mxnet/gluon/block.py:1512: UserWarning: Cannot decide type for the following arguments. Consider providing them as input:\n",
      "\tdata0: None\n",
      "  input_sym_arg_type = in_param.infer_type()[0]\n"
     ]
    }
   ],
   "source": [
    "import mxnet.gluon as gluon\n",
    "import mxnet.ndarray as nd\n",
    "import numpy as np\n",
    "\n",
    "name_list = ['data0','data1','data2','data3','data4','data5']\n",
    "data = nd.load('data/testdata')\n",
    "net = gluon.nn.SymbolBlock.imports('sy_model/prediction_net//prediction_net-symbol.json', name_list, 'sy_model/prediction_net//prediction_net-0000.params')\n",
    "for i in data:\n",
    "    print(len(i))\n",
    "out = net(*data)\n",
    "# print(out)"
   ]
  },
  {
   "cell_type": "code",
   "execution_count": 20,
   "id": "343eace5",
   "metadata": {},
   "outputs": [
    {
     "data": {
      "text/plain": [
       "'1.7.0'"
      ]
     },
     "execution_count": 20,
     "metadata": {},
     "output_type": "execute_result"
    }
   ],
   "source": [
    "import mxnet\n",
    "mxnet.__version__"
   ]
  },
  {
   "cell_type": "code",
   "execution_count": null,
   "id": "e82884d6",
   "metadata": {},
   "outputs": [],
   "source": []
  }
 ],
 "metadata": {
  "kernelspec": {
   "display_name": "Python 3",
   "language": "python",
   "name": "python3"
  },
  "language_info": {
   "codemirror_mode": {
    "name": "ipython",
    "version": 3
   },
   "file_extension": ".py",
   "mimetype": "text/x-python",
   "name": "python",
   "nbconvert_exporter": "python",
   "pygments_lexer": "ipython3",
   "version": "3.8.8"
  }
 },
 "nbformat": 4,
 "nbformat_minor": 5
}
